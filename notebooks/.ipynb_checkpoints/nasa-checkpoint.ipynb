{
 "cells": [
  {
   "cell_type": "code",
   "execution_count": 1,
   "id": "9d293a34-ab1c-4364-b6e3-75f797492b8c",
   "metadata": {},
   "outputs": [],
   "source": [
    "from pyspark.sql import SparkSession\n",
    "\n",
    "spark = SparkSession.builder \\\n",
    "    .appName(\"StarClassification\") \\\n",
    "    .config(\"spark.jars\", \"./mysql-connector-java-8.0.29.jar\") \\\n",
    "    .getOrCreate()"
   ]
  },
  {
   "cell_type": "code",
   "execution_count": 13,
   "id": "6956d750-b672-4821-a6dd-ba18162f3fff",
   "metadata": {
    "scrolled": true
   },
   "outputs": [],
   "source": [
    "jdbc_url = \"jdbc:mysql://mysql:3306/stardb\"\n",
    "properties = {\n",
    "    \"user\": \"root\",\n",
    "    \"password\": \"rootpassword\",\n",
    "    \"driver\": \"com.mysql.cj.jdbc.Driver\"\n",
    "}\n",
    "data = spark.read.jdbc(url=jdbc_url, table=\"star_data\", properties=properties)"
   ]
  },
  {
   "cell_type": "code",
   "execution_count": 14,
   "id": "5293880f-2283-4e94-b855-58dc6782d74d",
   "metadata": {},
   "outputs": [],
   "source": [
    "from sklearn.model_selection import train_test_split\n",
    "from sklearn.preprocessing import StandardScaler\n",
    "from sklearn.ensemble import RandomForestClassifier\n",
    "from sklearn.metrics import classification_report, accuracy_score\n",
    "from pyspark.sql.functions import when"
   ]
  },
  {
   "cell_type": "code",
   "execution_count": 15,
   "id": "ac3980a3-0364-4d02-9c61-813e70f339c2",
   "metadata": {},
   "outputs": [
    {
     "name": "stdout",
     "output_type": "stream",
     "text": [
      "+-------------------+-------+---------+-------+-------+-------+-------+-------+------+---------+-------+--------+-------------------+------+-----------+-----+-----+--------+\n",
      "|             obj_ID|  alpha|    delta|      u|      g|      r|      i|      z|run_ID|rereun_ID|cam_col|field_ID|        spec_obj_ID| class|   redshift|plate|  MJD|fiber_ID|\n",
      "+-------------------+-------+---------+-------+-------+-------+-------+-------+------+---------+-------+--------+-------------------+------+-----------+-----+-----+--------+\n",
      "|1237645942904389888|54.5558| 0.223247|22.1987|19.8468|18.3741|17.1248|16.4361|   109|      301|      4|     133|1708153485381363712|  STAR|-1.07784E-4| 1517|52934|     594|\n",
      "|1237645942904455168|54.6834| 0.216919|20.7986|19.5418|19.0461|18.8274|18.7466|   109|      301|      4|     134|3553453710967414784|  STAR|-6.27533E-5| 3156|54792|     413|\n",
      "|1237645942905438464|57.0471|0.0843043|19.4687|18.1826|17.5906|17.2644|16.9529|   109|      301|      4|     149|1721601612033583104|GALAXY|  0.0361674| 1529|52930|     366|\n",
      "|1237645942905635072|57.4884|0.0755838|22.9423|20.5669|19.3359| 18.776| 18.316|   109|      301|      4|     152|1399624200368449536|GALAXY|   0.133383| 1243|52930|     475|\n",
      "|1237645942905635328|57.4289|0.0730675|22.0245| 20.925|19.7406|19.2393|18.8451|   109|      301|      4|     152|1838730112980248576|GALAXY|   0.361637| 1633|52998|     493|\n",
      "|1237645942905700352|57.5096|0.0671615|21.9029|19.4385|18.0933|17.6189|17.0603|   109|      301|      4|     153|1721625526411487232|GALAXY|   0.130619| 1529|52930|     453|\n",
      "|1237645942905700608|57.5989| 0.063617|22.8123|21.4899|20.0463|19.5955|18.9974|   109|      301|      4|     153|1838732586881411072|GALAXY|   0.241813| 1633|52998|     502|\n",
      "|1237645942905897472|58.0384| 0.117742|22.4425|20.9633|20.0025| 19.471|19.3854|   109|      301|      4|     156|1838758975160477696|GALAXY|   0.235817| 1633|52998|     598|\n",
      "|1237645942906028288| 58.321| 0.145993|23.1723|20.5783|19.1496| 18.554|18.1542|   109|      301|      4|     158|1398539806539016192|  STAR| -5.4921E-5| 1242|52901|     626|\n",
      "|1237645942906028544|58.3552|0.0795489|24.5039|21.8972|21.1263|20.7946|20.3679|   109|      301|      4|     158|1398539256783202304|   QSO|    6.44972| 1242|52901|     624|\n",
      "|1237645942906290688|58.9233|0.0512493|23.4369| 22.506|20.8504|20.0553| 19.595|   109|      301|      4|     162|1399665432054491136|GALAXY|   0.317386| 1243|52930|     625|\n",
      "|1237645943434642176|  39.45| 0.630192|22.9449|23.7995|21.6233|20.5363|19.8293|   109|      301|      5|      32|8810360128157276160|GALAXY|   0.767963| 7825|57030|     703|\n",
      "|1237645943434970112|40.2859| 0.455475|24.8817|24.8779|21.8194|20.7899|19.9339|   109|      301|      5|      37|8810406857401456640|GALAXY|   0.812097| 7825|57030|     873|\n",
      "|1237645943973609984|44.2111| 0.973935|23.8945| 24.078|22.8508|23.6938| 22.947|   109|      301|      6|      64|9223372036854775807|GALAXY|   0.283458| 9370|58056|     276|\n",
      "|1237645943973675008|44.3931|  0.95784|18.5811|17.4828|17.0822|16.9447|16.8625|   109|      301|      6|      65|1702516577699653632|  STAR| 2.22322E-4| 1512|53742|     567|\n",
      "|1237645943973675264|44.4706| 0.938892|23.5487|20.7768|19.2013|18.2279|17.6432|   109|      301|      6|      65|1702520151112443904|  STAR| 2.51157E-4| 1512|53742|     580|\n",
      "|1237645943975182592|47.8218|  1.04689|19.8411|18.3146|17.7002|17.4558|17.3631|   109|      301|      6|      88|1704733729290741760|  STAR| 6.09384E-5| 1514|52931|     441|\n",
      "|1237645943976493056|50.9172|  0.90169|17.5685|16.0734|15.4818|15.2838|15.1952|   109|      301|      6|     108|1706963813783332864|  STAR| 2.40085E-4| 1516|52933|     362|\n",
      "|1237645943976689920|51.2396|  1.04675|24.2256|21.1366|19.6257| 18.859|18.4259|   109|      301|      6|     111|1198069419423590400|  STAR|-3.39291E-4| 1064|52577|     407|\n",
      "|1237645943978328064|54.9778| 0.974074|24.9058|21.5857|20.5173|18.9523|18.3849|   109|      301|      6|     136|1709220286588545024|  STAR| 2.42097E-4| 1518|52937|     379|\n",
      "+-------------------+-------+---------+-------+-------+-------+-------+-------+------+---------+-------+--------+-------------------+------+-----------+-----+-----+--------+\n",
      "only showing top 20 rows\n",
      "\n"
     ]
    }
   ],
   "source": [
    "data.show()"
   ]
  },
  {
   "cell_type": "code",
   "execution_count": 17,
   "id": "3935d54f-d6d4-4d54-b302-072513aed2c4",
   "metadata": {},
   "outputs": [
    {
     "ename": "NameError",
     "evalue": "name 'x' is not defined",
     "output_type": "error",
     "traceback": [
      "\u001b[0;31m---------------------------------------------------------------------------\u001b[0m",
      "\u001b[0;31mNameError\u001b[0m                                 Traceback (most recent call last)",
      "Cell \u001b[0;32mIn[17], line 4\u001b[0m\n\u001b[1;32m      2\u001b[0m X \u001b[38;5;241m=\u001b[39m data\u001b[38;5;241m.\u001b[39mdrop(\u001b[38;5;124m\"\u001b[39m\u001b[38;5;124mclass\u001b[39m\u001b[38;5;124m\"\u001b[39m)\n\u001b[1;32m      3\u001b[0m y \u001b[38;5;241m=\u001b[39m data[\u001b[38;5;124m\"\u001b[39m\u001b[38;5;124mclass\u001b[39m\u001b[38;5;124m\"\u001b[39m]\n\u001b[0;32m----> 4\u001b[0m \u001b[43mx\u001b[49m\u001b[38;5;241m.\u001b[39mshow()\n\u001b[1;32m      5\u001b[0m y\u001b[38;5;241m.\u001b[39mshow()\n",
      "\u001b[0;31mNameError\u001b[0m: name 'x' is not defined"
     ]
    }
   ],
   "source": [
    "# Séparer les caractéristiques (X) de la cible (y)\n",
    "X = data.drop(\"class\")\n",
    "y = data[\"class\"]"
   ]
  },
  {
   "cell_type": "code",
   "execution_count": null,
   "id": "0a2bb6ab-a52f-4e86-9168-6c5b5638f00e",
   "metadata": {},
   "outputs": [],
   "source": [
    "# Diviser les données en ensembles d'entraînement et de test (80% - 20%)\n",
    "X_train, X_test, y_train, y_test = train_test_split(X, y, test_size=0.2, random_state=42)# Normaliser les données (z-score)\n",
    "scaler = StandardScaler()\n",
    "X_train = scaler.fit_transform(X_train)\n",
    "X_test = scaler.transform(X_test)"
   ]
  },
  {
   "cell_type": "code",
   "execution_count": null,
   "id": "4b433c5d-1614-4505-95d8-da83f1c21732",
   "metadata": {},
   "outputs": [],
   "source": [
    "# Créer et entraîner un modèle RandomForest\n",
    "clf = RandomForestClassifier(random_state=42)\n",
    "clf.fit(X_train, y_train)"
   ]
  },
  {
   "cell_type": "code",
   "execution_count": null,
   "id": "bb74779e-34c1-4a5f-a283-8192d5d77eb9",
   "metadata": {},
   "outputs": [],
   "source": [
    "# Prédictions sur l'ensemble de test\n",
    "y_pred = clf.predict(X_test)"
   ]
  },
  {
   "cell_type": "code",
   "execution_count": null,
   "id": "92fd898f-afa2-4feb-831c-e80143665382",
   "metadata": {},
   "outputs": [],
   "source": [
    "# Évaluation du modèle\n",
    "accuracy = accuracy_score(y_test, y_pred)\n",
    "report = classification_report(y_test, y_pred)"
   ]
  },
  {
   "cell_type": "code",
   "execution_count": null,
   "id": "3e82f311-ee86-4107-9b1e-f521d3841d64",
   "metadata": {},
   "outputs": [],
   "source": [
    "print(f\"Accuracy: {accuracy:.2f}\")\n",
    "print(\"Classification Report:\")\n",
    "print(report)"
   ]
  }
 ],
 "metadata": {
  "kernelspec": {
   "display_name": "Python 3 (ipykernel)",
   "language": "python",
   "name": "python3"
  },
  "language_info": {
   "codemirror_mode": {
    "name": "ipython",
    "version": 3
   },
   "file_extension": ".py",
   "mimetype": "text/x-python",
   "name": "python",
   "nbconvert_exporter": "python",
   "pygments_lexer": "ipython3",
   "version": "3.11.5"
  }
 },
 "nbformat": 4,
 "nbformat_minor": 5
}
