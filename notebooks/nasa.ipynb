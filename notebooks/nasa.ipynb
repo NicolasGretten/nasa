{
 "cells": [
  {
   "cell_type": "markdown",
   "id": "e73f3fa8-7d73-4597-bd40-e0941dcfacbb",
   "metadata": {},
   "source": [
    "Set up de la session spark"
   ]
  },
  {
   "cell_type": "code",
   "execution_count": 1,
   "id": "0a08cf99-c9c6-4e29-90eb-d23efdd985c3",
   "metadata": {},
   "outputs": [],
   "source": [
    "from pyspark.sql import SparkSession\n",
    "\n",
    "spark = SparkSession.builder \\\n",
    "    .appName(\"StarClassification\") \\\n",
    "    .config(\"spark.jars\", \"./mysql-connector-java-8.0.29.jar\") \\\n",
    "    .enableHiveSupport() \\\n",
    "    .getOrCreate()"
   ]
  },
  {
   "cell_type": "markdown",
   "id": "258782a7-7356-4c0b-ab0f-ac0560f5ad7c",
   "metadata": {},
   "source": [
    "Configuration de la connexion JDBC"
   ]
  },
  {
   "cell_type": "code",
   "execution_count": 2,
   "id": "6956d750-b672-4821-a6dd-ba18162f3fff",
   "metadata": {
    "scrolled": true
   },
   "outputs": [],
   "source": [
    "jdbc_url = \"jdbc:mysql://mysql:3306/stardb\"\n",
    "properties = {\n",
    "    \"user\": \"root\",\n",
    "    \"password\": \"rootpassword\",\n",
    "    \"driver\": \"com.mysql.cj.jdbc.Driver\"\n",
    "}\n",
    "data = spark.read.jdbc(url=jdbc_url, table=\"star_data\", properties=properties)"
   ]
  },
  {
   "cell_type": "markdown",
   "id": "76e27d1c-1360-460b-a3fd-6b8e3d9a9ea0",
   "metadata": {
    "scrolled": true
   },
   "source": [
    "Import"
   ]
  },
  {
   "cell_type": "code",
   "execution_count": 47,
   "id": "5293880f-2283-4e94-b855-58dc6782d74d",
   "metadata": {},
   "outputs": [],
   "source": [
    "from pyspark.sql import SparkSession\n",
    "from pyspark.ml.classification import RandomForestClassifier\n",
    "from pyspark.ml.feature import VectorAssembler\n",
    "from pyspark.ml import Pipeline\n",
    "from pyspark.ml.evaluation import MulticlassClassificationEvaluator\n",
    "from pyspark.ml.classification import LogisticRegression\n",
    "from pyspark.ml.evaluation import MulticlassClassificationEvaluator\n",
    "from pyspark.mllib.evaluation import MulticlassMetrics\n",
    "from pyspark.sql.functions import when\n",
    "import matplotlib.pyplot as plt\n",
    "import numpy as np"
   ]
  },
  {
   "cell_type": "markdown",
   "id": "dfad6925-c027-4320-88d9-cce2b0431c22",
   "metadata": {},
   "source": [
    "Remplacement des chaines de charactères"
   ]
  },
  {
   "cell_type": "code",
   "execution_count": 4,
   "id": "322a2e18-668e-4249-a926-eded7cbf3ede",
   "metadata": {},
   "outputs": [],
   "source": [
    "data = data.withColumn(\"class\", when(data[\"class\"] == \"GALAXY\", 0)\n",
    "                                  .when(data[\"class\"] == \"QSO\", 1)\n",
    "                                  .when(data[\"class\"] == \"STAR\", 2)\n",
    "                                  .otherwise(-1))  # Valeur par défaut en cas de non correspondance"
   ]
  },
  {
   "cell_type": "code",
   "execution_count": 5,
   "id": "ac3980a3-0364-4d02-9c61-813e70f339c2",
   "metadata": {},
   "outputs": [
    {
     "name": "stdout",
     "output_type": "stream",
     "text": [
      "+-------------------+-------+---------+-------+-------+-------+-------+-------+------+---------+-------+--------+-------------------+-----+-----------+-----+-----+--------+\n",
      "|             obj_ID|  alpha|    delta|      u|      g|      r|      i|      z|run_ID|rereun_ID|cam_col|field_ID|        spec_obj_ID|class|   redshift|plate|  MJD|fiber_ID|\n",
      "+-------------------+-------+---------+-------+-------+-------+-------+-------+------+---------+-------+--------+-------------------+-----+-----------+-----+-----+--------+\n",
      "|1237645942904389888|54.5558| 0.223247|22.1987|19.8468|18.3741|17.1248|16.4361|   109|      301|      4|     133|1708153485381363712|    2|-1.07784E-4| 1517|52934|     594|\n",
      "|1237645942904455168|54.6834| 0.216919|20.7986|19.5418|19.0461|18.8274|18.7466|   109|      301|      4|     134|3553453710967414784|    2|-6.27533E-5| 3156|54792|     413|\n",
      "|1237645942905438464|57.0471|0.0843043|19.4687|18.1826|17.5906|17.2644|16.9529|   109|      301|      4|     149|1721601612033583104|    0|  0.0361674| 1529|52930|     366|\n",
      "|1237645942905635072|57.4884|0.0755838|22.9423|20.5669|19.3359| 18.776| 18.316|   109|      301|      4|     152|1399624200368449536|    0|   0.133383| 1243|52930|     475|\n",
      "|1237645942905635328|57.4289|0.0730675|22.0245| 20.925|19.7406|19.2393|18.8451|   109|      301|      4|     152|1838730112980248576|    0|   0.361637| 1633|52998|     493|\n",
      "|1237645942905700352|57.5096|0.0671615|21.9029|19.4385|18.0933|17.6189|17.0603|   109|      301|      4|     153|1721625526411487232|    0|   0.130619| 1529|52930|     453|\n",
      "|1237645942905700608|57.5989| 0.063617|22.8123|21.4899|20.0463|19.5955|18.9974|   109|      301|      4|     153|1838732586881411072|    0|   0.241813| 1633|52998|     502|\n",
      "|1237645942905897472|58.0384| 0.117742|22.4425|20.9633|20.0025| 19.471|19.3854|   109|      301|      4|     156|1838758975160477696|    0|   0.235817| 1633|52998|     598|\n",
      "|1237645942906028288| 58.321| 0.145993|23.1723|20.5783|19.1496| 18.554|18.1542|   109|      301|      4|     158|1398539806539016192|    2| -5.4921E-5| 1242|52901|     626|\n",
      "|1237645942906028544|58.3552|0.0795489|24.5039|21.8972|21.1263|20.7946|20.3679|   109|      301|      4|     158|1398539256783202304|    1|    6.44972| 1242|52901|     624|\n",
      "|1237645942906290688|58.9233|0.0512493|23.4369| 22.506|20.8504|20.0553| 19.595|   109|      301|      4|     162|1399665432054491136|    0|   0.317386| 1243|52930|     625|\n",
      "|1237645943434642176|  39.45| 0.630192|22.9449|23.7995|21.6233|20.5363|19.8293|   109|      301|      5|      32|8810360128157276160|    0|   0.767963| 7825|57030|     703|\n",
      "|1237645943434970112|40.2859| 0.455475|24.8817|24.8779|21.8194|20.7899|19.9339|   109|      301|      5|      37|8810406857401456640|    0|   0.812097| 7825|57030|     873|\n",
      "|1237645943973609984|44.2111| 0.973935|23.8945| 24.078|22.8508|23.6938| 22.947|   109|      301|      6|      64|9223372036854775807|    0|   0.283458| 9370|58056|     276|\n",
      "|1237645943973675008|44.3931|  0.95784|18.5811|17.4828|17.0822|16.9447|16.8625|   109|      301|      6|      65|1702516577699653632|    2| 2.22322E-4| 1512|53742|     567|\n",
      "|1237645943973675264|44.4706| 0.938892|23.5487|20.7768|19.2013|18.2279|17.6432|   109|      301|      6|      65|1702520151112443904|    2| 2.51157E-4| 1512|53742|     580|\n",
      "|1237645943975182592|47.8218|  1.04689|19.8411|18.3146|17.7002|17.4558|17.3631|   109|      301|      6|      88|1704733729290741760|    2| 6.09384E-5| 1514|52931|     441|\n",
      "|1237645943976493056|50.9172|  0.90169|17.5685|16.0734|15.4818|15.2838|15.1952|   109|      301|      6|     108|1706963813783332864|    2| 2.40085E-4| 1516|52933|     362|\n",
      "|1237645943976689920|51.2396|  1.04675|24.2256|21.1366|19.6257| 18.859|18.4259|   109|      301|      6|     111|1198069419423590400|    2|-3.39291E-4| 1064|52577|     407|\n",
      "|1237645943978328064|54.9778| 0.974074|24.9058|21.5857|20.5173|18.9523|18.3849|   109|      301|      6|     136|1709220286588545024|    2| 2.42097E-4| 1518|52937|     379|\n",
      "+-------------------+-------+---------+-------+-------+-------+-------+-------+------+---------+-------+--------+-------------------+-----+-----------+-----+-----+--------+\n",
      "only showing top 20 rows\n",
      "\n"
     ]
    }
   ],
   "source": [
    "data.show()"
   ]
  },
  {
   "cell_type": "markdown",
   "id": "797b78c8-3324-4d46-a8a8-330dfd53fb0e",
   "metadata": {},
   "source": [
    "Sélection des colonnes et nettoyage des données"
   ]
  },
  {
   "cell_type": "code",
   "execution_count": 6,
   "id": "c7397ae1-fad0-4670-84a9-8538bc659f29",
   "metadata": {},
   "outputs": [
    {
     "name": "stdout",
     "output_type": "stream",
     "text": [
      "+-------+---------+-------+-------+-------+-------+-------+-----+-----------+\n",
      "|  alpha|    delta|      u|      g|      r|      i|      z|class|   redshift|\n",
      "+-------+---------+-------+-------+-------+-------+-------+-----+-----------+\n",
      "|54.5558| 0.223247|22.1987|19.8468|18.3741|17.1248|16.4361|    2|-1.07784E-4|\n",
      "|54.6834| 0.216919|20.7986|19.5418|19.0461|18.8274|18.7466|    2|-6.27533E-5|\n",
      "|57.0471|0.0843043|19.4687|18.1826|17.5906|17.2644|16.9529|    0|  0.0361674|\n",
      "|57.4884|0.0755838|22.9423|20.5669|19.3359| 18.776| 18.316|    0|   0.133383|\n",
      "|57.4289|0.0730675|22.0245| 20.925|19.7406|19.2393|18.8451|    0|   0.361637|\n",
      "|57.5096|0.0671615|21.9029|19.4385|18.0933|17.6189|17.0603|    0|   0.130619|\n",
      "|57.5989| 0.063617|22.8123|21.4899|20.0463|19.5955|18.9974|    0|   0.241813|\n",
      "|58.0384| 0.117742|22.4425|20.9633|20.0025| 19.471|19.3854|    0|   0.235817|\n",
      "| 58.321| 0.145993|23.1723|20.5783|19.1496| 18.554|18.1542|    2| -5.4921E-5|\n",
      "|58.3552|0.0795489|24.5039|21.8972|21.1263|20.7946|20.3679|    1|    6.44972|\n",
      "|58.9233|0.0512493|23.4369| 22.506|20.8504|20.0553| 19.595|    0|   0.317386|\n",
      "|  39.45| 0.630192|22.9449|23.7995|21.6233|20.5363|19.8293|    0|   0.767963|\n",
      "|40.2859| 0.455475|24.8817|24.8779|21.8194|20.7899|19.9339|    0|   0.812097|\n",
      "|44.2111| 0.973935|23.8945| 24.078|22.8508|23.6938| 22.947|    0|   0.283458|\n",
      "|44.3931|  0.95784|18.5811|17.4828|17.0822|16.9447|16.8625|    2| 2.22322E-4|\n",
      "|44.4706| 0.938892|23.5487|20.7768|19.2013|18.2279|17.6432|    2| 2.51157E-4|\n",
      "|47.8218|  1.04689|19.8411|18.3146|17.7002|17.4558|17.3631|    2| 6.09384E-5|\n",
      "|50.9172|  0.90169|17.5685|16.0734|15.4818|15.2838|15.1952|    2| 2.40085E-4|\n",
      "|51.2396|  1.04675|24.2256|21.1366|19.6257| 18.859|18.4259|    2|-3.39291E-4|\n",
      "|54.9778| 0.974074|24.9058|21.5857|20.5173|18.9523|18.3849|    2| 2.42097E-4|\n",
      "+-------+---------+-------+-------+-------+-------+-------+-----+-----------+\n",
      "only showing top 20 rows\n",
      "\n"
     ]
    }
   ],
   "source": [
    "selected_data = data.select(\"alpha\", \"delta\", \"u\", \"g\", \"r\", \"i\", \"z\", \"class\", \"redshift\")\n",
    "cleaned_data = selected_data.dropna()  # Remove rows with missing values\n",
    "cleaned_data.show()"
   ]
  },
  {
   "cell_type": "markdown",
   "id": "a239f634-9310-46ec-b34c-745be85e3f76",
   "metadata": {},
   "source": [
    "Vector assembler"
   ]
  },
  {
   "cell_type": "code",
   "execution_count": 7,
   "id": "4b5e9b04-dee5-4bab-a9f3-7f6f4e113c79",
   "metadata": {},
   "outputs": [],
   "source": [
    "feature_columns = [\"alpha\", \"delta\", \"u\", \"g\", \"r\", \"i\", \"z\", \"redshift\"]\n",
    "assembler = VectorAssembler(inputCols=feature_columns, outputCol=\"features\")"
   ]
  },
  {
   "cell_type": "markdown",
   "id": "aeb028e5-f440-4ef9-a995-ba9b6166f67d",
   "metadata": {},
   "source": [
    "Création du Random Forrest et de la regression linéaire"
   ]
  },
  {
   "cell_type": "code",
   "execution_count": 8,
   "id": "34f92476-f4a5-46e2-9071-c0a8642ed0ce",
   "metadata": {},
   "outputs": [],
   "source": [
    "rf = RandomForestClassifier(labelCol=\"class\", featuresCol=\"features\")\n",
    "lr = LogisticRegression(labelCol=\"class\", featuresCol=\"features\")"
   ]
  },
  {
   "cell_type": "markdown",
   "id": "4dd5f1ab-2d4b-4233-9000-5e75cfb8c6af",
   "metadata": {},
   "source": [
    "Création des pipelines"
   ]
  },
  {
   "cell_type": "code",
   "execution_count": 9,
   "id": "2b35dc2f-0184-424c-b02a-4daaf227bd46",
   "metadata": {},
   "outputs": [],
   "source": [
    "pipeline_rf = Pipeline(stages=[assembler, rf])\n",
    "pipeline_lr = Pipeline(stages=[assembler, lr])"
   ]
  },
  {
   "cell_type": "markdown",
   "id": "a67e2622-1d68-4d60-a301-06975aa1486e",
   "metadata": {},
   "source": [
    "Séparation des données en données de test et de sets"
   ]
  },
  {
   "cell_type": "code",
   "execution_count": 10,
   "id": "2c26493b-4ed0-48f6-9f49-3e0747a046f7",
   "metadata": {},
   "outputs": [],
   "source": [
    "train_data, test_data = cleaned_data.randomSplit([0.8, 0.2], seed=42)"
   ]
  },
  {
   "cell_type": "markdown",
   "id": "603a69b5-cca0-4ed6-bb32-e4ebbd75412c",
   "metadata": {},
   "source": [
    "Entrainement des données"
   ]
  },
  {
   "cell_type": "code",
   "execution_count": 11,
   "id": "ac4d9055-b4bc-4dc3-913d-556a752a6613",
   "metadata": {},
   "outputs": [],
   "source": [
    "model_rf = pipeline_rf.fit(train_data)\n",
    "model_lr = pipeline_lr.fit(train_data)"
   ]
  },
  {
   "cell_type": "markdown",
   "id": "8d6b89c1-a767-4d12-81ea-8850365862b9",
   "metadata": {},
   "source": [
    "Prédictions"
   ]
  },
  {
   "cell_type": "code",
   "execution_count": 25,
   "id": "1e697e67-b704-411c-8ef0-e6e4095fb889",
   "metadata": {},
   "outputs": [],
   "source": [
    "predictions_rf = model_rf.transform(test_data)\n",
    "predictions_lr = model_lr.transform(test_data)"
   ]
  },
  {
   "cell_type": "markdown",
   "id": "feac7991-6272-4555-ade0-17050059780b",
   "metadata": {},
   "source": [
    "Evaluation"
   ]
  },
  {
   "cell_type": "code",
   "execution_count": null,
   "id": "ed09e9f8-ff60-4102-932d-37797c042d7f",
   "metadata": {},
   "outputs": [],
   "source": [
    "Calculer la matrice de confusion RF"
   ]
  },
  {
   "cell_type": "code",
   "execution_count": 31,
   "id": "24e3082e-b992-4eb0-8c68-ead3bf86e6e4",
   "metadata": {},
   "outputs": [
    {
     "name": "stdout",
     "output_type": "stream",
     "text": [
      "+-----+----------+-----+\n",
      "|class|prediction|count|\n",
      "+-----+----------+-----+\n",
      "|    1|       0.0|  430|\n",
      "|    0|       2.0|  176|\n",
      "|    0|       0.0| 9619|\n",
      "|    1|       2.0|    3|\n",
      "|    2|       2.0| 3486|\n",
      "|    1|       1.0| 2496|\n",
      "|    2|       0.0|    2|\n",
      "|    0|       1.0|   97|\n",
      "+-----+----------+-----+\n",
      "\n",
      "F1 RF Score: 0.96\n",
      "Accuracy RF: 0.96\n"
     ]
    }
   ],
   "source": [
    "evaluator_rf_acc = MulticlassClassificationEvaluator(labelCol=\"class\", predictionCol=\"prediction\", metricName=\"accuracy\")\n",
    "accuracy_rf = evaluator.evaluate(predictions_rf)\n",
    "evaluator_rf_f1 = MulticlassClassificationEvaluator(labelCol=\"class\", predictionCol=\"prediction\", metricName=\"f1\")\n",
    "f1_rf_score = evaluator_f1.evaluate(predictions_rf)\n",
    "confusion_matrix = predictions_rf.groupBy(\"class\", \"prediction\").count()\n",
    "confusion_matrix.show()\n",
    "print(f\"F1 RF Score: {f1_rf_score:.2f}\")\n",
    "print(f\"Accuracy RF: {accuracy_rf:.2f}\")"
   ]
  },
  {
   "cell_type": "code",
   "execution_count": 35,
   "id": "d2c0b184-e5c3-4f89-8603-a7faa1bd6b48",
   "metadata": {},
   "outputs": [
    {
     "data": {
      "image/png": "[encoded data removed]",
      "text/plain": [
       "<Figure size 800x600 with 2 Axes>"
      ]
     },
     "metadata": {},
     "output_type": "display_data"
    }
   ],
   "source": [
    "#On dessine la matrice de confusion RF\n",
    "data = [(1, 0.0, 430),\n",
    "        (0, 2.0, 176),\n",
    "        (0, 0.0, 9619),\n",
    "        (1, 2.0, 3),\n",
    "        (2, 2.0, 3486),\n",
    "        (1, 1.0, 2496),\n",
    "        (2, 0.0, 2),\n",
    "        (0, 1.0, 97)]\n",
    "\n",
    "df = pd.DataFrame(data, columns=[\"TrueClass\", \"PredictedClass\", \"Count\"])\n",
    "\n",
    "confusion_matrix = df.pivot(index=\"TrueClass\", columns=\"PredictedClass\", values=\"Count\").fillna(0)\n",
    "\n",
    "plt.figure(figsize=(8, 6))\n",
    "plt.imshow(confusion_matrix, interpolation='nearest', cmap=plt.cm.Blues)\n",
    "plt.title(\"Matrice de Confusion RF\")\n",
    "plt.colorbar()\n",
    "classes = [0, 1, 2] \n",
    "tick_marks = [0, 1, 2]\n",
    "plt.xticks(tick_marks, classes)\n",
    "plt.yticks(tick_marks, classes)\n",
    "\n",
    "for i in range(len(classes)):\n",
    "    for j in range(len(classes)):\n",
    "        plt.text(j, i, int(confusion_matrix.iloc[i, j]), horizontalalignment=\"center\", color=\"white\" if confusion_matrix.iloc[i, j] > confusion_matrix.values.max() / 2 else \"black\")\n",
    "\n",
    "plt.xlabel(\"Prédiction\")\n",
    "plt.ylabel(\"Réel\")\n",
    "plt.show()"
   ]
  },
  {
   "cell_type": "markdown",
   "id": "4d72a916-d11a-4a6b-8c06-ec9b7e11ba88",
   "metadata": {},
   "source": [
    "Calculer la matrice de confusion LR"
   ]
  },
  {
   "cell_type": "code",
   "execution_count": 32,
   "id": "4008be9a-908d-4dba-bb2e-03167fb5b541",
   "metadata": {},
   "outputs": [
    {
     "name": "stdout",
     "output_type": "stream",
     "text": [
      "+-----+----------+-----+\n",
      "|class|prediction|count|\n",
      "+-----+----------+-----+\n",
      "|    1|       0.0|  398|\n",
      "|    0|       2.0|  104|\n",
      "|    0|       0.0| 9640|\n",
      "|    1|       2.0|    1|\n",
      "|    2|       2.0| 3488|\n",
      "|    1|       1.0| 2530|\n",
      "|    0|       1.0|  148|\n",
      "+-----+----------+-----+\n",
      "\n",
      "F1 LR Score: 0.96\n",
      "Accuracy LR: 0.96\n"
     ]
    }
   ],
   "source": [
    "#Evaluation de notre modele regression logistique\n",
    "evaluator_lr_acc = MulticlassClassificationEvaluator(labelCol=\"class\", predictionCol=\"prediction\", metricName=\"accuracy\")\n",
    "#Calcule de la precision\n",
    "accuracy_lr = evaluator.evaluate(predictions_lr)\n",
    "#Calcule score F1\n",
    "evaluator_rf_f1 = MulticlassClassificationEvaluator(labelCol=\"class\", predictionCol=\"prediction\", metricName=\"f1\")\n",
    "f1_lr_score = evaluator_f1.evaluate(predictions_lr)\n",
    "confusion_matrix = predictions_lr.groupBy(\"class\", \"prediction\").count()\n",
    "confusion_matrix.show()\n",
    "print(f\"F1 LR Score: {f1_lr_score:.2f}\")\n",
    "print(f\"Accuracy LR: {accuracy_lr:.2f}\")"
   ]
  },
  {
   "cell_type": "code",
   "execution_count": 36,
   "id": "bb7a9423-8ed4-4fbb-97be-85cc341824fc",
   "metadata": {},
   "outputs": [
    {
     "data": {
      "image/png": "[encoded data removed]",
      "text/plain": [
       "<Figure size 800x600 with 2 Axes>"
      ]
     },
     "metadata": {},
     "output_type": "display_data"
    }
   ],
   "source": [
    "#On dessine la matrice de confusion LR\n",
    "data = [(1, 0.0, 398),\n",
    "        (0, 2.0, 104),\n",
    "        (0, 0.0, 9640),\n",
    "        (1, 2.0, 1),\n",
    "        (2, 2.0, 3488),\n",
    "        (1, 1.0, 2530),\n",
    "        (0, 1.0, 148)]\n",
    "\n",
    "df = pd.DataFrame(data, columns=[\"TrueClass\", \"PredictedClass\", \"Count\"])\n",
    "\n",
    "confusion_matrix = df.pivot(index=\"TrueClass\", columns=\"PredictedClass\", values=\"Count\").fillna(0)\n",
    "\n",
    "plt.figure(figsize=(8, 6))\n",
    "plt.imshow(confusion_matrix, interpolation='nearest', cmap=plt.cm.Blues)\n",
    "plt.title(\"Matrice de Confusion LR\")\n",
    "plt.colorbar()\n",
    "classes = [0, 1, 2] \n",
    "tick_marks = [0, 1, 2]\n",
    "plt.xticks(tick_marks, classes)\n",
    "plt.yticks(tick_marks, classes)\n",
    "\n",
    "for i in range(len(classes)):\n",
    "    for j in range(len(classes)):\n",
    "        plt.text(j, i, int(confusion_matrix.iloc[i, j]), horizontalalignment=\"center\", color=\"white\" if confusion_matrix.iloc[i, j] > confusion_matrix.values.max() / 2 else \"black\")\n",
    "\n",
    "plt.xlabel(\"Prédiction\")\n",
    "plt.ylabel(\"Réel\")\n",
    "plt.show()"
   ]
  },
  {
   "cell_type": "code",
   "execution_count": null,
   "id": "9cfe3fcc-0acd-443d-96b2-d86d218dbded",
   "metadata": {},
   "outputs": [],
   "source": [
    "x_bins = 100\n",
    "y_bins = 100\n",
    "\n",
    "Create a grid for the heatmap\n",
    "# On cree une matrice pour la heatmap\n",
    "def create_heatmap(data, x_bins, y_bins):\n",
    "    heatmap_data = data.select(\"alpha\", \"delta\").rdd.map(lambda x: (x[0], x[1]))\n",
    "    heatmap, xedges, yedges = np.histogram2d(heatmap_data.collect(), bins=(x_bins, y_bins))\n",
    "    extent = [xedges[0], xedges[-1], yedges[0], yedges[-1]]\n",
    "\n",
    "    return heatmap.T, extent\n",
    "\n",
    "# On cree la grille\n",
    "heatmap, extent = create_heatmap(predictions, x_bins, y_bins)\n",
    "\n",
    "# On plot la heatmap\n",
    "plt.figure(figsize=(10, 8))\n",
    "plt.imshow(heatmap, extent=extent, origin=\"lower\", cmap=\"inferno\", aspect=\"auto\")\n",
    "plt.colorbar(label=\"Object Density\")\n",
    "plt.xlabel(\"Right Ascension (alpha)\")\n",
    "plt.ylabel(\"Declination (delta)\")\n",
    "plt.title(\"Astronomical Object Density Heatmap\")\n",
    "plt.show()\n"
   ]
  }
 ],
 "metadata": {
  "kernelspec": {
   "display_name": "Python 3 (ipykernel)",
   "language": "python",
   "name": "python3"
  },
  "language_info": {
   "codemirror_mode": {
    "name": "ipython",
    "version": 3
   },
   "file_extension": ".py",
   "mimetype": "text/x-python",
   "name": "python",
   "nbconvert_exporter": "python",
   "pygments_lexer": "ipython3",
   "version": "3.11.5"
  }
 },
 "nbformat": 4,
 "nbformat_minor": 5
}
